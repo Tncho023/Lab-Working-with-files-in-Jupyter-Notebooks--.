{
 "cells": [
  {
   "cell_type": "markdown",
   "id": "e000d53e-e33f-4149-9dc0-105f8ca6037a",
   "metadata": {},
   "source": [
    "#  Data Science Tools and Ecosystem"
   ]
  },
  {
   "cell_type": "markdown",
   "id": "50191369-a7fa-40fa-812f-2e88e67f4e49",
   "metadata": {},
   "source": [
    "In the following cells, the data science tools and its ecosystem will be explained."
   ]
  },
  {
   "cell_type": "markdown",
   "id": "46597490-5ba7-4d59-b7ab-7522d67ea2db",
   "metadata": {},
   "source": [
    "**Objectives:**\n",
    "- Most known data science langauges\n",
    "- Most used data science libraries\n",
    "- Data Science Tools\n",
    "- Arithmetic expressions in Python"
   ]
  },
  {
   "cell_type": "markdown",
   "id": "0fbc406a-e202-4fdc-8533-ff926643ab93",
   "metadata": {},
   "source": [
    "The most known data science langauges are:\n",
    "1. Python\n",
    "2. R\n",
    "3. SQL"
   ]
  },
  {
   "cell_type": "markdown",
   "id": "9a4342d7-2cf7-49f9-8771-c38d9b3eea5c",
   "metadata": {},
   "source": [
    "The most used data science libraries by data scientists are:\n",
    "1. NumPy\n",
    "2. TensorFlow\n",
    "3. Matplotlib"
   ]
  },
  {
   "cell_type": "markdown",
   "id": "9fdfde6f-75df-4337-a35d-8ac8f1f27996",
   "metadata": {},
   "source": [
    "| Data Science Tools|\n",
    "|-------------------|\n",
    "|RStudio            |\n",
    "|Jupyter notebook   |\n",
    "|Visual Studio code |"
   ]
  },
  {
   "cell_type": "markdown",
   "id": "917a4b7e-ba17-49e8-b578-3a93bd3f83f8",
   "metadata": {},
   "source": [
    "### Some arithmetic expressions in Python"
   ]
  },
  {
   "cell_type": "code",
   "execution_count": 62,
   "id": "b725b0db-902b-486a-9edc-ee094c71d716",
   "metadata": {},
   "outputs": [
    {
     "data": {
      "text/plain": [
       "17"
      ]
     },
     "execution_count": 62,
     "metadata": {},
     "output_type": "execute_result"
    }
   ],
   "source": [
    "# An arithmetic expression, where there exists a multiplication and the adding of integer numbers \n",
    "(3*4)+5"
   ]
  },
  {
   "cell_type": "code",
   "execution_count": 63,
   "id": "754f105e-846a-4c5e-94e8-9c393e03da59",
   "metadata": {},
   "outputs": [
    {
     "data": {
      "text/plain": [
       "3.3333333333333335"
      ]
     },
     "execution_count": 63,
     "metadata": {},
     "output_type": "execute_result"
    }
   ],
   "source": [
    "# To convert 200 minutes into hours, we only have to divide by 60\n",
    "200/60\n"
   ]
  },
  {
   "cell_type": "markdown",
   "id": "02d20093-122f-40b6-abed-d1f884b691f2",
   "metadata": {},
   "source": [
    "## Author\n",
    "Mateo San martin"
   ]
  }
 ],
 "metadata": {
  "kernelspec": {
   "display_name": "Python [conda env:base] *",
   "language": "python",
   "name": "conda-base-py"
  },
  "language_info": {
   "codemirror_mode": {
    "name": "ipython",
    "version": 3
   },
   "file_extension": ".py",
   "mimetype": "text/x-python",
   "name": "python",
   "nbconvert_exporter": "python",
   "pygments_lexer": "ipython3",
   "version": "3.12.7"
  }
 },
 "nbformat": 4,
 "nbformat_minor": 5
}

{
 "cells": [
  {
   "cell_type": "markdown",
   "id": "e000d53e-e33f-4149-9dc0-105f8ca6037a",
   "metadata": {},
   "source": [
    "#  Data Science Tools and Ecosystem"
   ]
  },
  {
   "cell_type": "markdown",
   "id": "50191369-a7fa-40fa-812f-2e88e67f4e49",
   "metadata": {},
   "source": [
    "In the following cells, the data science tools and its ecosystem will be explained."
   ]
  },
  {
   "cell_type": "markdown",
   "id": "bf73a955-3457-43b5-98e7-59704ae12ffd",
   "metadata": {},
   "source": [
    "**Objectives:**\n",
    "- Most known data science langauges\n",
    "- Most used data science libraries\n",
    "- Arithmetic expressions in Python\n",
    "- Data science tools"
   ]
  },
  {
   "cell_type": "markdown",
   "id": "0fbc406a-e202-4fdc-8533-ff926643ab93",
   "metadata": {},
   "source": [
    "The most known data science langauges are:\n",
    "1. Python\n",
    "2. R\n",
    "3. SQL"
   ]
  },
  {
   "cell_type": "markdown",
   "id": "9a4342d7-2cf7-49f9-8771-c38d9b3eea5c",
   "metadata": {},
   "source": [
    "The most used data science libraries by data scientists are:\n",
    "1. NumPy\n",
    "2. TensorFlow\n",
    "3. Matplotlib"
   ]
  },
  {
   "cell_type": "markdown",
   "id": "9fdfde6f-75df-4337-a35d-8ac8f1f27996",
   "metadata": {},
   "source": [
    "| Data Science Tools|\n",
    "|-------------------|\n",
    "|RStudio            |\n",
    "|Jupyter notebook   |\n",
    "|Visual Studio code |"
   ]
  },
  {
   "cell_type": "markdown",
   "id": "917a4b7e-ba17-49e8-b578-3a93bd3f83f8",
   "metadata": {},
   "source": [
    "### Some arithmetic expressions in Python"
   ]
  },
  {
   "cell_type": "code",
   "execution_count": 28,
   "id": "c73e1d34-56ac-4592-b6a3-5138a5629932",
   "metadata": {},
   "outputs": [
    {
     "data": {
      "text/plain": [
       "17"
      ]
     },
     "execution_count": 28,
     "metadata": {},
     "output_type": "execute_result"
    }
   ],
   "source": [
    "# An arithmetic expression, where there exists a multiplication and the adding of integer numbers \n",
    "(3*4)+5"
   ]
  },
  {
   "cell_type": "markdown",
   "id": "c11a6ac9-2ecb-48cc-a9cc-a90034fd4c9d",
   "metadata": {},
   "source": [
    "## Author\n",
    "Mateo San martin"
   ]
  }
 ],
 "metadata": {
  "kernelspec": {
   "display_name": "Python [conda env:base] *",
   "language": "python",
   "name": "conda-base-py"
  },
  "language_info": {
   "codemirror_mode": {
    "name": "ipython",
    "version": 3
   },
   "file_extension": ".py",
   "mimetype": "text/x-python",
   "name": "python",
   "nbconvert_exporter": "python",
   "pygments_lexer": "ipython3",
   "version": "3.12.7"
  }
 },
 "nbformat": 4,
 "nbformat_minor": 5
}
